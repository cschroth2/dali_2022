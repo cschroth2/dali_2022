{
 "cells": [
  {
   "cell_type": "markdown",
   "id": "503528e2",
   "metadata": {},
   "source": [
    "# NEURAL NETWORKS FOR TIME SERIES CLASSIFICATION\n",
    "\n",
    "Welcome to our series about time series classification. In this series we want to show how data, e.g. from sensors, can be analyzed using machine learning and AI (Artificial Intelligence) techniques.\n",
    "\n",
    "Time series classification is a possible starting point to get an idea how complex applications in practice can be approached using AI. Such applications are for example anomaly detection, remaining useful life estimation, predictive maintenance, etc.\n",
    "\n",
    "## What is time series classification?\n",
    "\n",
    "Time series can be measurements of signals like temperature, pressure, voltage, etc. These signals can be univariate or multivariate data. Usually, the data consist of of\n",
    "*K* (e.g. *K=6*) different classes. And here's the key question:\n",
    "\n",
    "*Can we find a function that predicts the class for a new, unknown measurement data signal?*\n",
    "\n",
    "For a formal definition, the interested reader may be referred to (Fawaz et al. 2019). There are different approaches to get such a function. In this blog we want to focus on the approach known as neural networks for classification. The interested reader may refer to (Fawaz et al. 2019) to get more information about this topic.\n",
    "\n",
    "Let's import some standard libraries:"
   ]
  },
  {
   "cell_type": "code",
   "execution_count": 1,
   "id": "fcd0d131",
   "metadata": {},
   "outputs": [
    {
     "name": "stdout",
     "output_type": "stream",
     "text": [
      "2.9.1\n",
      "2.9.0\n"
     ]
    }
   ],
   "source": [
    "import pandas as pd\n",
    "import numpy as np\n",
    "from pathlib import Path\n",
    "import matplotlib.pyplot as plt\n",
    "import os\n",
    "from sklearn import preprocessing\n",
    "import tensorflow as tf\n",
    "import urllib.request\n",
    "import zipfile\n",
    "\n",
    "print(tf.__version__)\n",
    "print(tf.keras.__version__)"
   ]
  },
  {
   "cell_type": "code",
   "execution_count": 2,
   "id": "c2b0185c",
   "metadata": {},
   "outputs": [
    {
     "data": {
      "text/plain": [
       "('HAR_Dataset.zip', <http.client.HTTPMessage at 0x23e4be07130>)"
      ]
     },
     "execution_count": 2,
     "metadata": {},
     "output_type": "execute_result"
    }
   ],
   "source": [
    "# download\n",
    "url = \"https://archive.ics.uci.edu/ml/machine-learning-databases/00240/UCI%20HAR%20Dataset.zip\"\n",
    "urllib.request.urlretrieve(url, \"HAR_Dataset.zip\")"
   ]
  },
  {
   "cell_type": "code",
   "execution_count": 3,
   "id": "155053eb",
   "metadata": {},
   "outputs": [],
   "source": [
    "# unzip\n",
    "with zipfile.ZipFile(\"./HAR_Dataset.zip\", 'r') as zip_ref:\n",
    "    zip_ref.extractall(path=\".\")"
   ]
  },
  {
   "cell_type": "markdown",
   "id": "04ef99ca",
   "metadata": {},
   "source": [
    "A help function - do not edit"
   ]
  },
  {
   "cell_type": "code",
   "execution_count": 4,
   "id": "32d46de7",
   "metadata": {},
   "outputs": [],
   "source": [
    "def read_uci_har_data(start_path):\n",
    "    X_train, X_test, = [], []\n",
    "    # read the train signal data\n",
    "    for input_file in os.listdir(start_path + '/UCI HAR Dataset/train/Inertial Signals'):\n",
    "        my_signal = pd.read_csv(start_path + '/UCI HAR Dataset/train/Inertial Signals/' + input_file, header=None, delim_whitespace=True)\n",
    "        X_train.append(my_signal.to_numpy())\n",
    "    X_train = np.transpose(np.array(X_train), (1, 2, 0))\n",
    "    # read the test signal data\n",
    "    for input_file in os.listdir(start_path + '/UCI HAR Dataset/test/Inertial Signals/'):\n",
    "        my_signal = pd.read_csv(start_path + '/UCI HAR Dataset/test/Inertial Signals/' + input_file, header=None, delim_whitespace=True)\n",
    "        X_test.append(my_signal.to_numpy())\n",
    "    X_test = np.transpose(np.array(X_test), (1, 2, 0))\n",
    "    # read the labels\n",
    "    y_train = pd.read_csv(start_path + '/UCI HAR Dataset/train/y_train.txt', header=None).to_numpy()\n",
    "    y_test = pd.read_csv(start_path + '/UCI HAR Dataset/test/y_test.txt', header=None).to_numpy()\n",
    "    return X_train, X_test,y_train,y_test"
   ]
  },
  {
   "cell_type": "code",
   "execution_count": 5,
   "id": "3e1d3d5e",
   "metadata": {},
   "outputs": [
    {
     "name": "stdout",
     "output_type": "stream",
     "text": [
      "(7352, 128, 9)\n",
      "(7352, 1)\n"
     ]
    }
   ],
   "source": [
    "X_train, X_test,y_train,y_test = read_uci_har_data(\".\")\n",
    "print(X_train.shape)  # should be (7352, 128, 9)\n",
    "print(y_train.shape)  # should be (7352,1)"
   ]
  },
  {
   "cell_type": "markdown",
   "id": "546e5c3c",
   "metadata": {},
   "source": [
    "Transform the multivariate time series to a univariate time series - run only once!"
   ]
  },
  {
   "cell_type": "code",
   "execution_count": 6,
   "id": "f78fb900",
   "metadata": {},
   "outputs": [
    {
     "name": "stdout",
     "output_type": "stream",
     "text": [
      "(7352, 1152)\n",
      "0.11537594842792709\n",
      "0.3243178451795317\n"
     ]
    }
   ],
   "source": [
    "X_train = np.reshape(X_train,(X_train.shape[0],X_train.shape[1]*X_train.shape[2]),order='F')\n",
    "X_test = np.reshape(X_test,(X_test.shape[0],X_test.shape[1]*X_test.shape[2]),order='F')\n",
    "print(X_train.shape) # should be (7352, 1152)\n",
    "print(X_train[0].mean()) # should be 0.11537594842792709\n",
    "print(X_train[0].std()) # should be 0.3243178451795317"
   ]
  },
  {
   "cell_type": "markdown",
   "id": "e40c83ad",
   "metadata": {},
   "source": [
    "Normalize to mean 0 and standard deviation 1 - run only once!"
   ]
  },
  {
   "cell_type": "code",
   "execution_count": 7,
   "id": "4549d002",
   "metadata": {},
   "outputs": [
    {
     "name": "stdout",
     "output_type": "stream",
     "text": [
      "(7352, 1152)\n",
      "5.973271018718349e-19\n",
      "1.0000000000000002\n",
      "-0.00713964303801565\n",
      "0.9540409710015257\n"
     ]
    }
   ],
   "source": [
    "scaler = preprocessing.StandardScaler()\n",
    "X_train = scaler.fit_transform(X_train)\n",
    "X_test = scaler.transform(X_test)\n",
    "print(X_train.shape) # should be (7352, 1152) again\n",
    "# should be exactly 0 and 1\n",
    "print(X_train.mean()) # should be (exactly) 0\n",
    "print(X_train.std()) # should be (exactly) 1\n",
    "# should be around 0 and 1\n",
    "print(X_test.mean()) # should be -0.00713964303801565 (i.e. around but not exactly 0)\n",
    "print(X_test.std()) # should be 0.9540409710015257 (i.e. around but not exactly 1)"
   ]
  },
  {
   "cell_type": "markdown",
   "id": "fcb0ff12",
   "metadata": {},
   "source": [
    "The labels must be a one dimensional vector starting by 0 - run only once!"
   ]
  },
  {
   "cell_type": "code",
   "execution_count": 8,
   "id": "5c63ade2",
   "metadata": {},
   "outputs": [
    {
     "name": "stdout",
     "output_type": "stream",
     "text": [
      "Before:\n",
      "1\n",
      "6\n",
      "After:\n",
      "0\n",
      "5\n"
     ]
    }
   ],
   "source": [
    "print('Before:')\n",
    "print(y_train.min()) # should be 1\n",
    "print(y_train.max()) # should be 6\n",
    "# labels must be integers starting by 0\n",
    "y_train = y_train-1\n",
    "# labels must be converted to 1-dimensional row vector\n",
    "y_train = y_train.flatten()\n",
    "print('After:')\n",
    "print(y_train.min()) # should be 0\n",
    "print(y_train.max()) # should be 5\n",
    "# same procedure for the test data\n",
    "y_test = y_test-1\n",
    "# labels must be converted to 1-dimensional row vector\n",
    "y_test = y_test.flatten()"
   ]
  },
  {
   "cell_type": "markdown",
   "id": "673438c1",
   "metadata": {},
   "source": [
    "## DEFINING THE MODEL WITH TENSORFLOW"
   ]
  },
  {
   "cell_type": "code",
   "execution_count": 9,
   "id": "1beaf848",
   "metadata": {},
   "outputs": [],
   "source": [
    "model1 = tf.keras.models.Sequential([\n",
    "  tf.keras.layers.Dense(32, activation='sigmoid'),  # 32: number of hidden neurons\n",
    "  tf.keras.layers.Dense(6, activation='sigmoid')    # 6: classes to predict\n",
    "])\n",
    "loss_fn = tf.keras.losses.SparseCategoricalCrossentropy(from_logits=True)"
   ]
  },
  {
   "cell_type": "markdown",
   "id": "76a1e165",
   "metadata": {},
   "source": [
    "## COMPILE THE MODEL"
   ]
  },
  {
   "cell_type": "code",
   "execution_count": 10,
   "id": "c1499839",
   "metadata": {},
   "outputs": [],
   "source": [
    "model1.compile(optimizer='adam',     # adam: standard optimization method\n",
    "              loss=loss_fn,          # loss function: as defined above\n",
    "              metrics=['accuracy'])"
   ]
  },
  {
   "cell_type": "markdown",
   "id": "15595fdc",
   "metadata": {},
   "source": [
    "## Train the model"
   ]
  },
  {
   "cell_type": "code",
   "execution_count": 11,
   "id": "d35e0646",
   "metadata": {},
   "outputs": [
    {
     "name": "stdout",
     "output_type": "stream",
     "text": [
      "Epoch 1/20\n"
     ]
    },
    {
     "name": "stderr",
     "output_type": "stream",
     "text": [
      "C:\\Users\\schroth\\AppData\\Roaming\\Python\\Python39\\site-packages\\tensorflow\\python\\util\\dispatch.py:1082: UserWarning: \"`sparse_categorical_crossentropy` received `from_logits=True`, but the `output` argument was produced by a sigmoid or softmax activation and thus does not represent logits. Was this intended?\"\n",
      "  return dispatch_target(*args, **kwargs)\n"
     ]
    },
    {
     "name": "stdout",
     "output_type": "stream",
     "text": [
      "230/230 - 1s - loss: 0.9845 - accuracy: 0.6869 - val_loss: 0.9060 - val_accuracy: 0.7313 - 973ms/epoch - 4ms/step\n",
      "Epoch 2/20\n",
      "230/230 - 0s - loss: 0.6320 - accuracy: 0.8494 - val_loss: 0.7568 - val_accuracy: 0.7967 - 408ms/epoch - 2ms/step\n",
      "Epoch 3/20\n",
      "230/230 - 0s - loss: 0.4733 - accuracy: 0.8980 - val_loss: 0.6804 - val_accuracy: 0.8191 - 357ms/epoch - 2ms/step\n",
      "Epoch 4/20\n",
      "230/230 - 0s - loss: 0.3759 - accuracy: 0.9168 - val_loss: 0.6254 - val_accuracy: 0.8249 - 380ms/epoch - 2ms/step\n",
      "Epoch 5/20\n",
      "230/230 - 0s - loss: 0.3105 - accuracy: 0.9306 - val_loss: 0.5885 - val_accuracy: 0.8344 - 363ms/epoch - 2ms/step\n",
      "Epoch 6/20\n",
      "230/230 - 0s - loss: 0.2648 - accuracy: 0.9369 - val_loss: 0.5646 - val_accuracy: 0.8442 - 497ms/epoch - 2ms/step\n",
      "Epoch 7/20\n",
      "230/230 - 0s - loss: 0.2333 - accuracy: 0.9414 - val_loss: 0.5411 - val_accuracy: 0.8470 - 358ms/epoch - 2ms/step\n",
      "Epoch 8/20\n",
      "230/230 - 0s - loss: 0.2092 - accuracy: 0.9455 - val_loss: 0.5316 - val_accuracy: 0.8432 - 352ms/epoch - 2ms/step\n",
      "Epoch 9/20\n",
      "230/230 - 0s - loss: 0.1892 - accuracy: 0.9490 - val_loss: 0.5222 - val_accuracy: 0.8453 - 359ms/epoch - 2ms/step\n",
      "Epoch 10/20\n",
      "230/230 - 0s - loss: 0.1731 - accuracy: 0.9527 - val_loss: 0.5134 - val_accuracy: 0.8551 - 316ms/epoch - 1ms/step\n",
      "Epoch 11/20\n",
      "230/230 - 0s - loss: 0.1616 - accuracy: 0.9542 - val_loss: 0.5087 - val_accuracy: 0.8551 - 335ms/epoch - 1ms/step\n",
      "Epoch 12/20\n",
      "230/230 - 0s - loss: 0.1518 - accuracy: 0.9550 - val_loss: 0.5015 - val_accuracy: 0.8568 - 368ms/epoch - 2ms/step\n",
      "Epoch 13/20\n",
      "230/230 - 0s - loss: 0.1439 - accuracy: 0.9553 - val_loss: 0.5032 - val_accuracy: 0.8585 - 370ms/epoch - 2ms/step\n",
      "Epoch 14/20\n",
      "230/230 - 0s - loss: 0.1367 - accuracy: 0.9557 - val_loss: 0.4990 - val_accuracy: 0.8551 - 335ms/epoch - 1ms/step\n",
      "Epoch 15/20\n",
      "230/230 - 0s - loss: 0.1301 - accuracy: 0.9558 - val_loss: 0.5008 - val_accuracy: 0.8578 - 342ms/epoch - 1ms/step\n",
      "Epoch 16/20\n",
      "230/230 - 0s - loss: 0.1260 - accuracy: 0.9569 - val_loss: 0.5066 - val_accuracy: 0.8561 - 339ms/epoch - 1ms/step\n",
      "Epoch 17/20\n",
      "230/230 - 0s - loss: 0.1224 - accuracy: 0.9570 - val_loss: 0.5017 - val_accuracy: 0.8561 - 370ms/epoch - 2ms/step\n",
      "Epoch 18/20\n",
      "230/230 - 0s - loss: 0.1183 - accuracy: 0.9572 - val_loss: 0.5084 - val_accuracy: 0.8537 - 356ms/epoch - 2ms/step\n",
      "Epoch 19/20\n",
      "230/230 - 0s - loss: 0.1149 - accuracy: 0.9595 - val_loss: 0.5195 - val_accuracy: 0.8507 - 357ms/epoch - 2ms/step\n",
      "Epoch 20/20\n",
      "230/230 - 0s - loss: 0.1120 - accuracy: 0.9595 - val_loss: 0.5079 - val_accuracy: 0.8534 - 329ms/epoch - 1ms/step\n"
     ]
    }
   ],
   "source": [
    "history1=model1.fit(X_train,y_train, validation_data=(X_test, y_test), epochs=20,verbose=2)"
   ]
  },
  {
   "cell_type": "markdown",
   "id": "98659011",
   "metadata": {},
   "source": [
    "Plot the results"
   ]
  },
  {
   "cell_type": "code",
   "execution_count": 12,
   "id": "46e90961",
   "metadata": {},
   "outputs": [
    {
     "data": {
      "image/png": "[encoded data removed]",
      "text/plain": [
       "<Figure size 432x288 with 1 Axes>"
      ]
     },
     "metadata": {
      "needs_background": "light"
     },
     "output_type": "display_data"
    }
   ],
   "source": [
    "plt.title('Learning Curves (1 hidden layer) - acc: ' + str(history1.history['val_accuracy'][-1]))\n",
    "plt.xlabel('Epoch')\n",
    "plt.ylabel('accuracy')\n",
    "plt.plot(history1.history['accuracy'], label='train')\n",
    "plt.plot(history1.history['val_accuracy'], label='validation')\n",
    "plt.legend()\n",
    "plt.show();"
   ]
  },
  {
   "cell_type": "markdown",
   "id": "6126226a",
   "metadata": {},
   "source": [
    "## Defining a 2nd model with two layers:"
   ]
  },
  {
   "cell_type": "code",
   "execution_count": 13,
   "id": "c88ab49d",
   "metadata": {},
   "outputs": [],
   "source": [
    "model2 = tf.keras.models.Sequential([\n",
    "    tf.keras.layers.Dense(64, activation='sigmoid'),  # 64/256: number of hidden neurons (1st layer)\n",
    "    tf.keras.layers.Dense(32, activation='sigmoid'),  # 32/256: number of hidden neurons (2nd layer)\n",
    "    tf.keras.layers.Dense(6, activation='sigmoid')    # 6: 6 classes to predict\n",
    "\n",
    "])"
   ]
  },
  {
   "cell_type": "markdown",
   "id": "c80215f1",
   "metadata": {},
   "source": [
    "Compile the 2nd model:"
   ]
  },
  {
   "cell_type": "code",
   "execution_count": 14,
   "id": "ccee7776",
   "metadata": {},
   "outputs": [],
   "source": [
    "model2.compile(optimizer='Adam',\n",
    "              loss=loss_fn,\n",
    "              metrics=['accuracy'])\n"
   ]
  },
  {
   "cell_type": "markdown",
   "id": "7fc3038a",
   "metadata": {},
   "source": [
    "## Train the 2nd model:"
   ]
  },
  {
   "cell_type": "code",
   "execution_count": 15,
   "id": "c304adc9",
   "metadata": {},
   "outputs": [
    {
     "name": "stdout",
     "output_type": "stream",
     "text": [
      "Epoch 1/30\n",
      "230/230 - 1s - loss: 1.2771 - accuracy: 0.5306 - val_loss: 1.1208 - val_accuracy: 0.5796 - 956ms/epoch - 4ms/step\n",
      "Epoch 2/30\n",
      "230/230 - 0s - loss: 0.8410 - accuracy: 0.7437 - val_loss: 0.8966 - val_accuracy: 0.7099 - 436ms/epoch - 2ms/step\n",
      "Epoch 3/30\n",
      "230/230 - 0s - loss: 0.5530 - accuracy: 0.8765 - val_loss: 0.6763 - val_accuracy: 0.8168 - 401ms/epoch - 2ms/step\n",
      "Epoch 4/30\n",
      "230/230 - 0s - loss: 0.3597 - accuracy: 0.9260 - val_loss: 0.5716 - val_accuracy: 0.8497 - 411ms/epoch - 2ms/step\n",
      "Epoch 5/30\n",
      "230/230 - 0s - loss: 0.2481 - accuracy: 0.9437 - val_loss: 0.5000 - val_accuracy: 0.8602 - 453ms/epoch - 2ms/step\n",
      "Epoch 6/30\n",
      "230/230 - 0s - loss: 0.1897 - accuracy: 0.9490 - val_loss: 0.4756 - val_accuracy: 0.8588 - 442ms/epoch - 2ms/step\n",
      "Epoch 7/30\n",
      "230/230 - 0s - loss: 0.1570 - accuracy: 0.9531 - val_loss: 0.4623 - val_accuracy: 0.8612 - 413ms/epoch - 2ms/step\n",
      "Epoch 8/30\n",
      "230/230 - 0s - loss: 0.1360 - accuracy: 0.9563 - val_loss: 0.4521 - val_accuracy: 0.8660 - 427ms/epoch - 2ms/step\n",
      "Epoch 9/30\n",
      "230/230 - 0s - loss: 0.1236 - accuracy: 0.9563 - val_loss: 0.4427 - val_accuracy: 0.8663 - 431ms/epoch - 2ms/step\n",
      "Epoch 10/30\n",
      "230/230 - 0s - loss: 0.1156 - accuracy: 0.9577 - val_loss: 0.4465 - val_accuracy: 0.8697 - 447ms/epoch - 2ms/step\n",
      "Epoch 11/30\n",
      "230/230 - 0s - loss: 0.1092 - accuracy: 0.9581 - val_loss: 0.4539 - val_accuracy: 0.8636 - 460ms/epoch - 2ms/step\n",
      "Epoch 12/30\n",
      "230/230 - 0s - loss: 0.1038 - accuracy: 0.9601 - val_loss: 0.4585 - val_accuracy: 0.8643 - 436ms/epoch - 2ms/step\n",
      "Epoch 13/30\n",
      "230/230 - 0s - loss: 0.0996 - accuracy: 0.9601 - val_loss: 0.4584 - val_accuracy: 0.8643 - 462ms/epoch - 2ms/step\n",
      "Epoch 14/30\n",
      "230/230 - 0s - loss: 0.0965 - accuracy: 0.9606 - val_loss: 0.4603 - val_accuracy: 0.8653 - 457ms/epoch - 2ms/step\n",
      "Epoch 15/30\n",
      "230/230 - 0s - loss: 0.0937 - accuracy: 0.9608 - val_loss: 0.4628 - val_accuracy: 0.8694 - 439ms/epoch - 2ms/step\n",
      "Epoch 16/30\n",
      "230/230 - 0s - loss: 0.0910 - accuracy: 0.9592 - val_loss: 0.4821 - val_accuracy: 0.8643 - 407ms/epoch - 2ms/step\n",
      "Epoch 17/30\n",
      "230/230 - 1s - loss: 0.0887 - accuracy: 0.9633 - val_loss: 0.4894 - val_accuracy: 0.8626 - 533ms/epoch - 2ms/step\n",
      "Epoch 18/30\n",
      "230/230 - 0s - loss: 0.0854 - accuracy: 0.9649 - val_loss: 0.4867 - val_accuracy: 0.8677 - 379ms/epoch - 2ms/step\n",
      "Epoch 19/30\n",
      "230/230 - 0s - loss: 0.0834 - accuracy: 0.9661 - val_loss: 0.5021 - val_accuracy: 0.8694 - 491ms/epoch - 2ms/step\n",
      "Epoch 20/30\n",
      "230/230 - 0s - loss: 0.0794 - accuracy: 0.9672 - val_loss: 0.5163 - val_accuracy: 0.8595 - 388ms/epoch - 2ms/step\n",
      "Epoch 21/30\n",
      "230/230 - 0s - loss: 0.0767 - accuracy: 0.9703 - val_loss: 0.5281 - val_accuracy: 0.8643 - 448ms/epoch - 2ms/step\n",
      "Epoch 22/30\n",
      "230/230 - 0s - loss: 0.0706 - accuracy: 0.9727 - val_loss: 0.5678 - val_accuracy: 0.8493 - 425ms/epoch - 2ms/step\n",
      "Epoch 23/30\n",
      "230/230 - 0s - loss: 0.0831 - accuracy: 0.9667 - val_loss: 0.5272 - val_accuracy: 0.8724 - 428ms/epoch - 2ms/step\n",
      "Epoch 24/30\n",
      "230/230 - 0s - loss: 0.0688 - accuracy: 0.9740 - val_loss: 0.5548 - val_accuracy: 0.8775 - 409ms/epoch - 2ms/step\n",
      "Epoch 25/30\n",
      "230/230 - 0s - loss: 0.0614 - accuracy: 0.9759 - val_loss: 0.5675 - val_accuracy: 0.8741 - 415ms/epoch - 2ms/step\n",
      "Epoch 26/30\n",
      "230/230 - 0s - loss: 0.0557 - accuracy: 0.9778 - val_loss: 0.5818 - val_accuracy: 0.8707 - 408ms/epoch - 2ms/step\n",
      "Epoch 27/30\n",
      "230/230 - 0s - loss: 0.0514 - accuracy: 0.9781 - val_loss: 0.5965 - val_accuracy: 0.8700 - 408ms/epoch - 2ms/step\n",
      "Epoch 28/30\n",
      "230/230 - 0s - loss: 0.0490 - accuracy: 0.9799 - val_loss: 0.6351 - val_accuracy: 0.8697 - 407ms/epoch - 2ms/step\n",
      "Epoch 29/30\n",
      "230/230 - 0s - loss: 0.0471 - accuracy: 0.9805 - val_loss: 0.6211 - val_accuracy: 0.8687 - 408ms/epoch - 2ms/step\n",
      "Epoch 30/30\n",
      "230/230 - 0s - loss: 0.0445 - accuracy: 0.9811 - val_loss: 0.6500 - val_accuracy: 0.8633 - 406ms/epoch - 2ms/step\n"
     ]
    }
   ],
   "source": [
    "history2=model2.fit(X_train, y_train,validation_data=(X_test, y_test), epochs=20,verbose=2)"
   ]
  },
  {
   "cell_type": "markdown",
   "id": "9d40dc94",
   "metadata": {},
   "source": [
    "Plot the results:"
   ]
  },
  {
   "cell_type": "code",
   "execution_count": 16,
   "id": "bee29613",
   "metadata": {},
   "outputs": [
    {
     "name": "stdout",
     "output_type": "stream",
     "text": [
      "93/93 - 0s - loss: 0.6500 - accuracy: 0.8633 - 104ms/epoch - 1ms/step\n"
     ]
    },
    {
     "data": {
      "image/png": "[encoded data removed]",
      "text/plain": [
       "<Figure size 432x288 with 1 Axes>"
      ]
     },
     "metadata": {
      "needs_background": "light"
     },
     "output_type": "display_data"
    }
   ],
   "source": [
    "plt.title('Learning Curves (2 hidden layers) - accuracy val.: ' + str(model2.evaluate(X_test,  y_test, verbose=2)[1]))\n",
    "plt.xlabel('Epoch')\n",
    "plt.ylabel('accuracy')\n",
    "plt.plot(history2.history['accuracy'], label='train')\n",
    "plt.plot(history2.history['val_accuracy'], label='validation')\n",
    "plt.legend()\n",
    "plt.show();"
   ]
  }
 ],
 "metadata": {
  "kernelspec": {
   "display_name": "Python 3 (ipykernel)",
   "language": "python",
   "name": "python3"
  },
  "language_info": {
   "codemirror_mode": {
    "name": "ipython",
    "version": 3
   },
   "file_extension": ".py",
   "mimetype": "text/x-python",
   "name": "python",
   "nbconvert_exporter": "python",
   "pygments_lexer": "ipython3",
   "version": "3.9.12"
  }
 },
 "nbformat": 4,
 "nbformat_minor": 5
}
